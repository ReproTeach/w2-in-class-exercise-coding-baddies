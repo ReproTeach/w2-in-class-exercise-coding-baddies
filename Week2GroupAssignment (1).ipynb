{
 "cells": [
  {
   "cell_type": "code",
   "execution_count": 2,
   "id": "b7010b51-3dd3-4d03-af2d-4de131aebe7e",
   "metadata": {
    "tags": []
   },
   "outputs": [
    {
     "name": "stdout",
     "output_type": "stream",
     "text": [
      "abigail gutierrez, chloe dinh-luong, cynthia wong, harneet dhillon, yuenji Lee\n"
     ]
    }
   ],
   "source": [
    "print (\"abigail gutierrez, chloe dinh-luong, cynthia wong, harneet dhillon, yuenji Lee\")"
   ]
  },
  {
   "cell_type": "markdown",
   "id": "664677f5-41f9-48c1-b606-25879f921748",
   "metadata": {
    "tags": []
   },
   "source": [
    "#### Exercise 2\n",
    "\n",
    "Write a function that takes a list of numbers and returns the maximum value."
   ]
  },
  {
   "cell_type": "code",
   "execution_count": null,
   "id": "29635d3a-6a2c-479b-89a8-3a74a398d425",
   "metadata": {},
   "outputs": [],
   "source": [
    "def large (arr): \n",
    "    max_ = arr[0]\n",
    "    for ele in arr: \n",
    "        if(ele > max_):\n",
    "            max_= ele\n",
    "    return max_\n",
    "\n",
    "list1 = [15, 3, 5, 2,0"
   ]
  }
 ],
 "metadata": {
  "kernelspec": {
   "display_name": "Python 3 (ipykernel)",
   "language": "python",
   "name": "python3"
  },
  "language_info": {
   "codemirror_mode": {
    "name": "ipython",
    "version": 3
   },
   "file_extension": ".py",
   "mimetype": "text/x-python",
   "name": "python",
   "nbconvert_exporter": "python",
   "pygments_lexer": "ipython3",
   "version": "3.10.9"
  }
 },
 "nbformat": 4,
 "nbformat_minor": 5
}
